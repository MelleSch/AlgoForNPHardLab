{
 "cells": [
  {
   "cell_type": "markdown",
   "metadata": {},
   "source": []
  },
  {
   "cell_type": "code",
   "execution_count": null,
   "metadata": {
    "collapsed": false,
    "pycharm": {
     "name": "#%%\n"
    }
   },
   "outputs": [],
   "source": [
    "import numpy as np\n",
    "import random as rand\n",
    "from matplotlib import pyplot as plt\n",
    "from math import comb\n",
    "from scipy.stats import nbinom, expon\n"
   ]
  },
  {
   "cell_type": "markdown",
   "metadata": {},
   "source": []
  },
  {
   "cell_type": "code",
   "execution_count": null,
   "metadata": {
    "collapsed": false,
    "pycharm": {
     "is_executing": true,
     "name": "#%%\n"
    }
   },
   "outputs": [],
   "source": [
    "# Binomial distribution\n",
    "\n",
    "def binomgen(n, p):\n",
    "    x = 0\n",
    "    k = 0\n",
    "    while k < n:\n",
    "        u = rand.uniform(0, 1)\n",
    "        if (u <= p):\n",
    "            x += 1\n",
    "        k += 1\n",
    "    return x\n",
    "    # values = list(range(n+1))\n",
    "    # dist = [comb(n, i) * p ** i * (1-p) ** (n - i) for i in range(n + 1)]\n",
    "\n",
    "    # plt.title(\"Binomial distribution\")\n",
    "    # plt.xlabel(\"Number of samples\")\n",
    "    # plt.ylabel(\"Probability of successes\")\n",
    "    # plt.bar(values, dist)\n",
    "    # plt.show()"
   ]
  },
  {
   "cell_type": "code",
   "execution_count": null,
   "metadata": {},
   "outputs": [],
   "source": [
    "parameters = [(10, 0.5), (10, 0.7), (50, 0.5)]"
   ]
  },
  {
   "cell_type": "code",
   "execution_count": null,
   "metadata": {},
   "outputs": [],
   "source": [
    "for (n, p) in parameters:\n",
    "    values = [binomgen(n, p) for i in range(5000)]\n",
    "    labels, counts = np.unique(values, return_counts=True)\n",
    "    fig, ax = plt.subplots(1, 1)\n",
    "    plt.bar(labels, counts, align='center')\n",
    "    plt.xlim([-0.5, n + 0.5])\n",
    "    plt.xticks(np.arange(0, n+1, n // 10))\n",
    "    plt.show"
   ]
  },
  {
   "cell_type": "code",
   "execution_count": null,
   "metadata": {
    "collapsed": false,
    "pycharm": {
     "is_executing": true,
     "name": "#%%\n"
    }
   },
   "outputs": [],
   "source": [
    "# Negative Binomial Distribution\n",
    "\n",
    "def nbinomgen(r, p):\n",
    "    fail = 0\n",
    "    k = 0\n",
    "    while fail < r:\n",
    "        u = rand.uniform(0, 1)\n",
    "        if (u > p):\n",
    "            fail += 1\n",
    "        k += 1\n",
    "    return k - fail"
   ]
  },
  {
   "cell_type": "code",
   "execution_count": null,
   "metadata": {},
   "outputs": [],
   "source": [
    "for (r, p) in parameters:\n",
    "    values = [nbinomgen(r, p) for i in range(5000)]\n",
    "    fig, ax = plt.subplots(1, 1)\n",
    "    plt.hist(values, [i - 0.5 for i in range(0, max(values) + 1, 1)])\n",
    "    plt.show"
   ]
  },
  {
   "cell_type": "code",
   "execution_count": null,
   "metadata": {},
   "outputs": [],
   "source": []
  },
  {
   "cell_type": "code",
   "execution_count": null,
   "metadata": {},
   "outputs": [],
   "source": [
    "# 3. From one distribution to another\n",
    "\n",
    "# Exponential Distribution\n",
    "\n",
    "\n",
    "\n",
    "# fig, ax = plt.subplots(1, 1)\n",
    "# rv = expon()\n",
    "# x = np.linspace(expon.ppf(0.01),\n",
    "#                 expon.ppf(0.99), 100)\n",
    "# ax.plot(x, rv.pdf(x), 'k-', lw=2)\n",
    "# r = expon.rvs(size=1000)\n",
    "# ax.hist(r, density=True, histtype='stepfilled', alpha=0.2)\n",
    "# plt.show()"
   ]
  }
 ],
 "metadata": {
  "interpreter": {
   "hash": "34877b8fa4a854ffb343e3cc84fab7b331a3d11beabe59f2d36eb4916db5a901"
  },
  "kernelspec": {
   "display_name": "Python 3.9.10 64-bit",
   "language": "python",
   "name": "python3"
  },
  "language_info": {
   "codemirror_mode": {
    "name": "ipython",
    "version": 3
   },
   "file_extension": ".py",
   "mimetype": "text/x-python",
   "name": "python",
   "nbconvert_exporter": "python",
   "pygments_lexer": "ipython3",
   "version": "3.9.10"
  },
  "orig_nbformat": 4
 },
 "nbformat": 4,
 "nbformat_minor": 2
}
