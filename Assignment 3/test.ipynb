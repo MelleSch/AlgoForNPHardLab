{
 "cells": [
  {
   "cell_type": "markdown",
   "metadata": {},
   "source": [
    "# Assignment part 3\n",
    "\n",
    "By: Markus Trasberg 5105013, Melle Schoenmaker 5062306"
   ]
  },
  {
   "cell_type": "code",
   "execution_count": null,
   "metadata": {
    "collapsed": false,
    "pycharm": {
     "name": "#%%\n"
    }
   },
   "outputs": [],
   "source": [
    "import numpy as np\n",
    "import random as rand\n",
    "from matplotlib import pyplot as plt\n",
    "from math import *\n",
    "from scipy.stats import nbinom, expon\n"
   ]
  },
  {
   "cell_type": "markdown",
   "metadata": {},
   "source": [
    "## Binomial Generator\n",
    "A sample from a binomial distribution with specified amount of shots and probability of succes.\n",
    "It works by iterating n times and each time generating a uniform random value between 0 and 1, if this value is less than the probability then the shot was a success and x is incremented by 1. \n",
    "Once the amount of iterations (k) reaches n, the number of successes (x) is returned"
   ]
  },
  {
   "cell_type": "code",
   "execution_count": null,
   "metadata": {
    "collapsed": false,
    "pycharm": {
     "is_executing": true,
     "name": "#%%\n"
    }
   },
   "outputs": [],
   "source": [
    "# Binomial distribution\n",
    "\n",
    "def binomgen(n, p):\n",
    "    x = 0\n",
    "    k = 0\n",
    "    while k < n:\n",
    "        u = rand.uniform(0, 1)\n",
    "        if (u <= p):\n",
    "            x += 1\n",
    "        k += 1\n",
    "    return x"
   ]
  },
  {
   "cell_type": "markdown",
   "metadata": {},
   "source": [
    "## Negative Binomial Generator\n",
    "A sample from a negative binomial distribution with specified amount of failures and probability of succes.\n",
    "It works by iterating until the amount of failures (fail) reaches r.\n",
    "Each iteration a uniform random variable between 0 and 1 is generated, if this value is higher than the probability then the shot was a failure and fail is incremented by 1.\n",
    "Once the amount of failures (fail) reaches r, the number of iterations minus failures (k - fail) is returned"
   ]
  },
  {
   "cell_type": "code",
   "execution_count": null,
   "metadata": {
    "collapsed": false,
    "pycharm": {
     "is_executing": true,
     "name": "#%%\n"
    }
   },
   "outputs": [],
   "source": [
    "# Negative Binomial Distribution\n",
    "\n",
    "def nbinomgen(r, p):\n",
    "    fail = 0\n",
    "    k = 0\n",
    "    while fail < r:\n",
    "        u = rand.uniform(0, 1)\n",
    "        if (u > p):\n",
    "            fail += 1\n",
    "        k += 1\n",
    "    return k - fail"
   ]
  },
  {
   "cell_type": "code",
   "execution_count": null,
   "metadata": {},
   "outputs": [],
   "source": [
    "parameters = [(10, 0.5), (10, 0.7), (50, 0.5)]\n",
    "coinflip_params = [(1000, 0.5)]"
   ]
  },
  {
   "cell_type": "markdown",
   "metadata": {},
   "source": [
    "To show that these distributions are close to the actual underlying distributions we generate the probability density functions of the distributions.\n",
    "Comparing the two plots for each distribution with parameters (n, p) or (r, p) will show that they have a similar shape and thus the samples have similar frequencies. "
   ]
  },
  {
   "cell_type": "code",
   "execution_count": null,
   "metadata": {},
   "outputs": [],
   "source": [
    "for (n, p) in parameters:\n",
    "    fig, (ax1, ax2) = plt.subplots(1, 2)\n",
    "    fig.set_figwidth(20)\n",
    "    values = [binomgen(n, p) for i in range(5000)]\n",
    "    labels, counts = np.unique(values, return_counts=True)\n",
    "    ax1.bar(labels, counts, align='center')\n",
    "    ax1.set_xlim([-0.5, n + 0.5])\n",
    "    ax1.set_xticks(np.arange(0, n+1, n // 10))\n",
    "    ax1.set_title(\"Binomial Sample\") \n",
    "    ax1.set_xlabel(\"Number of successes\") \n",
    "    ax1.set_ylabel(\"Number of samples\") \n",
    "\n",
    "    values = list(range(n+1))\n",
    "    dist = [comb(n, i) * p ** i * (1-p) ** (n - i) for i in range(n + 1)]\n",
    "\n",
    "    ax2.set_title(\"Binomial distribution probability density function\") \n",
    "    ax2.set_xlabel(\"Number of samples\") \n",
    "    ax2.set_ylabel(\"Probability\") \n",
    "    \n",
    "    ax2.set_xlim([-0.5, n + 0.5])\n",
    "    ax2.set_xticks(np.arange(0, n+1, n // 10))\n",
    "    ax2.bar(values, dist)\n",
    "\n",
    "    "
   ]
  },
  {
   "cell_type": "code",
   "execution_count": null,
   "metadata": {},
   "outputs": [],
   "source": [
    "for (r, p) in parameters:\n",
    "    fig, (ax1, ax2) = plt.subplots(1, 2)\n",
    "    fig.set_figwidth(20)\n",
    "\n",
    "    values = [nbinomgen(r, p) for i in range(5000)]\n",
    "    labels, counts = np.unique(values, return_counts=True)\n",
    "    ax1.bar(labels, counts, align='center')\n",
    "    ax1.set_xlim([-0.5, max(values) + 0.5])\n",
    "    ax1.set_xticks(np.arange(0, max(values)+1, max(values) // 10))\n",
    "    ax1.set_title(\"Negative Binomial Distribution Sample\")\n",
    "    ax1.set_xlabel(f\"Number of successes until {r} failures\")\n",
    "    ax1.set_ylabel(\"Number of samples\")\n",
    "\n",
    "    x = np.arange(0, max(values))\n",
    "    ax2.bar(x, nbinom.pmf(x, r, 1 - p))\n",
    "    ax2.set_title(\"Negative Binomial distribution probability density function\")\n",
    "    ax2.set_xlabel(f\"Number of successes until {r} failures\")\n",
    "    ax2.set_ylabel(\"Probability\")\n",
    "    ax2.set_xticks(np.arange(0, max(x), max(x) // 10))"
   ]
  },
  {
   "cell_type": "markdown",
   "metadata": {},
   "source": [
    "## Flipping a coin\n",
    "For the game of flipping a coin, we use a similar strategy as before to get a random sample, however instead of only adding 1 to the counter for a success, we also substract 1 from the counter in case of a failure.\n",
    "This way the counter keeps track of Sn throughout the N (1000) samples and the value of Sn divided by sqrt(N) is stored in an array for plotting.\n",
    "\n",
    "As can be seen by rerunning the code below, the trajectory fluctuates around 0 with the eventual peak or dip due to randomness in the sampling method."
   ]
  },
  {
   "cell_type": "code",
   "execution_count": null,
   "metadata": {},
   "outputs": [],
   "source": [
    "for (N, p) in coinflip_params:\n",
    "    Sn = 0\n",
    "    n = 0\n",
    "    values = [None] * (N+1)\n",
    "    while n <= N:\n",
    "        values[n] = Sn / sqrt(N)\n",
    "        u = rand.uniform(0, 1)\n",
    "        if (u <= p):\n",
    "            Sn += 1\n",
    "        else:\n",
    "            Sn -= 1\n",
    "        n += 1\n",
    "    labels = [i for i in range(N+1)]\n",
    "    fig, ax = plt.subplots(1, 1)\n",
    "    fig.set_figwidth(20)\n",
    "    ax.set_xlim([0, N])\n",
    "    ax.set_xticks(np.arange(0, N, N // 10))\n",
    "    ax.set_title(\"Sample gain\")\n",
    "    ax.set_xlabel(f\"Number of trials\")\n",
    "    ax.set_ylabel(\"Gain (Sn / sqrt(N))\")\n",
    "    ax.plot(labels, values)"
   ]
  },
  {
   "cell_type": "markdown",
   "metadata": {},
   "source": [
    "## Symmetry property\n",
    "\n",
    "### Bernoulli scheme generator\n",
    "To implement a Bernoulli scheme generator we take a similar approach as the one taken in ex1.\n",
    "Given a probability p as an argument, the function generates a value uniformally at random and compares this to p.\n",
    "If the random value was less than the value of the probability then the generator returns one\n",
    "Otherwise the generator returns 0\n",
    "\n",
    "### Cantor distribution generator\n",
    "To implement a Cantor generator with a given probability p and a level of precision n we use the bernoulli generator defined above.\n",
    "To start the generator initializes a result value as 0\n",
    "Then iteratively, 2 * (1/3)**(i + 1) * bernoulli(p) is repeatedly added to the result which corresponds to generating the lower limits of the boundaries in the Cantor set C_i"
   ]
  },
  {
   "cell_type": "code",
   "execution_count": null,
   "metadata": {},
   "outputs": [],
   "source": [
    "# Exercise 2 - Symmetry property\n",
    "# Bernoulli Scheme Generator\n",
    "def bernoulli(p):\n",
    "    if (rand.uniform(0, 1) < p):\n",
    "        return 1\n",
    "    return 0\n",
    "\n",
    "# Cantor generator\n",
    "\n",
    "def cantor(n, p):\n",
    "    res = 0\n",
    "    for i in range(n):\n",
    "        res += bernoulli(p) * 2 * 1/3**(i + 1)\n",
    "\n",
    "    return res\n",
    "\n",
    "def prob(x, labels, counts, N):\n",
    "    counter = 0\n",
    "    probability = 0\n",
    "    for i in labels:\n",
    "        if (x - 0.000001 <= i and x + 0.000001 >= i):\n",
    "            return np.NaN\n",
    "        if (x < i):\n",
    "            break\n",
    "        counter += 1\n",
    "    for i in range(counter):\n",
    "        probability += counts[i] / N\n",
    "    return probability\n"
   ]
  },
  {
   "cell_type": "markdown",
   "metadata": {},
   "source": [
    "### Cantor distribution sample\n",
    "Below image shows a sample taken from the cantor distribution generator. It shows a uniform distribution between all of the potential values, these potential values are limited to the lower bounds of the intervals of a cantor set with precision level N"
   ]
  },
  {
   "cell_type": "code",
   "execution_count": null,
   "metadata": {},
   "outputs": [],
   "source": [
    "fig, ax1 = plt.subplots(1, 1)\n",
    "fig.set_figwidth(20)\n",
    "N = 6\n",
    "p = 0.5\n",
    "binwidth = 3**-N\n",
    "values = [cantor(N, p) for i in range(10000)]\n",
    "labels, counts = np.unique(values, return_counts=True)\n",
    "ax1.hist(values, bins=np.arange(0 - binwidth/2, 1 + binwidth/2, binwidth))\n",
    "ax1.set_xlim([-binwidth/2, 1 + binwidth/2])\n",
    "ax1.set_xticks(np.arange(0, 1, 3**-3))\n",
    "ax1.set_title(\"Cantor Distribution Sample\")\n",
    "ax1.set_xlabel(\"Sample value\")\n",
    "ax1.set_ylabel(\"Number of samples\")\n",
    "plt.show()"
   ]
  },
  {
   "cell_type": "markdown",
   "metadata": {},
   "source": [
    "### Symmetry Properties\n",
    "#### With respect to 1/2\n",
    "To verify the symmetry property with respect to 1/2 where X is equally distributed with 1-X, we plotted two distribution functions using the same sample set X that was generated using the Cantor generator. For the second plot, we inverted the values around 1/2. As our test confirms, the shape of the two plots is identical, thus confirming the reflection symmetry property."
   ]
  },
  {
   "cell_type": "code",
   "execution_count": null,
   "metadata": {},
   "outputs": [],
   "source": [
    "fig, ((ax1, ax2), (ax3, ax4)) = plt.subplots(2, 2)\n",
    "fig.set_figwidth(40)\n",
    "fig.set_figheight(10)\n",
    "N = 6\n",
    "p = 0.5\n",
    "binwidth = 3**-N\n",
    "\n",
    "values1 = [cantor(N, p) for i in range(10000)]\n",
    "x = np.arange(0, 1, binwidth)\n",
    "labels1, counts1 = np.unique(values1, return_counts=True)\n",
    "ax1.set_xlim([-binwidth/2, 1 + binwidth/2])\n",
    "ax1.set_xticks(np.arange(0, 1, 3**-3))\n",
    "ax1.set_title(\"Cantor Distribution Function\")\n",
    "ax1.set_xlabel(\"Value\")\n",
    "ax1.set_ylabel(\"Probability X<Value\")\n",
    "ax1.plot(x, [prob(i, labels1, counts1, sum(counts1)) for i in x])\n",
    "\n",
    "ax2.hist(values1, bins=np.arange(0 - binwidth/2, 1 + binwidth/2, binwidth))\n",
    "ax2.set_xlim([-binwidth/2, 1 + binwidth/2])\n",
    "ax2.set_xticks(np.arange(0, 1, 3**-3))\n",
    "ax2.set_title(\"Cantor Distribution Sample\")\n",
    "ax2.set_xlabel(\"Sample value\")\n",
    "ax2.set_ylabel(\"Number of samples\")\n",
    "\n",
    "values2 = [1 - i for i in values1]\n",
    "labels2, counts2 = np.unique(values2, return_counts=True)\n",
    "ax3.set_xlim([-binwidth/2, 1 + binwidth/2])\n",
    "ax3.set_xticks(np.arange(0, 1, 3**-3))\n",
    "ax3.set_title(\"Cantor Distribution Function\")\n",
    "ax3.set_xlabel(\"(1-X)\")\n",
    "ax3.set_ylabel(\"Probability (1-X)<Value\")\n",
    "ax3.plot(x, [prob(i, labels2, counts2, sum(counts1)) for i in x])\n",
    "\n",
    "ax4.hist(values2, bins=np.arange(0 - binwidth/2, 1 + binwidth/2, binwidth))\n",
    "ax4.set_xlim([-binwidth/2, 1 + binwidth/2])\n",
    "ax4.set_xticks(np.arange(0, 1, 3**-3))\n",
    "ax4.set_title(\"Cantor Distribution Sample\")\n",
    "ax4.set_xlabel(\"1 - Sample value\")\n",
    "ax4.set_ylabel(\"Number of samples\")\n",
    "plt.show()"
   ]
  },
  {
   "cell_type": "markdown",
   "metadata": {},
   "source": [
    "#### Self-similarity\n",
    "To verify the self-similarity property between the conditional distribution Y under the condition that Y belongs to the interval [0, 1/3] and the distribution Y/3, we plotted two distribution functions using the same sample set X that was generated using the Cantor generator. For the first plot, we exclude the labels and counts for values higher than 1/3. For the second plot, we divided the values by 3. As our test confirms, the shape of the two plots is identical, thus confirming the self-similarity property."
   ]
  },
  {
   "cell_type": "code",
   "execution_count": null,
   "metadata": {},
   "outputs": [],
   "source": [
    "fig, ((ax1, ax2), (ax3, ax4)) = plt.subplots(2, 2)\n",
    "fig.set_figwidth(40)\n",
    "fig.set_figheight(10)\n",
    "N = 6\n",
    "p = 0.5\n",
    "binwidth = 3**-N\n",
    "\n",
    "values1 = [cantor(N, p) for i in range(10000)]\n",
    "\n",
    "x = np.arange(0, 1/3, binwidth)\n",
    "labels1, counts1 = np.unique(values1, return_counts=True)\n",
    "count = 0\n",
    "for i in labels1:\n",
    "    if (i > 1/3):\n",
    "        break\n",
    "    count += 1\n",
    "labels1 = labels1[0:count]\n",
    "counts1 = counts1[0:count]\n",
    "\n",
    "    \n",
    "ax1.set_xlim(0, 1/3)\n",
    "ax1.set_xticks(np.arange(0, 1/3, 3**-3))\n",
    "ax1.set_title(\"Cantor Distribution Function\")\n",
    "ax1.set_xlabel(\"Y in the interval [0, 1/3]\")\n",
    "ax1.set_ylabel(\"Probability Y < Value on interval [0, 1/3]\")\n",
    "ax1.plot(x, [prob(i, labels1, counts1, sum(counts1)) for i in x])\n",
    "\n",
    "ax2.hist(values1, bins=np.arange(0 - binwidth/2, 1 + binwidth/2, binwidth))\n",
    "ax2.set_xlim([-binwidth/2, 1/3 + binwidth/2])\n",
    "ax2.set_xticks(np.arange(0, 1/3, 3**-3))\n",
    "ax2.set_title(\"Cantor Distribution Sample\")\n",
    "ax2.set_xlabel(\"Y in the interval [0, 1/3]\")\n",
    "ax2.set_ylabel(\"Number of samples\")\n",
    "\n",
    "binwidth /= 3\n",
    "\n",
    "values2 = [i/3 for i in values1]\n",
    "labels2, counts2 = np.unique(values2, return_counts=True)\n",
    "ax3.set_xlim([-binwidth/2, 1/3 + binwidth/2])\n",
    "ax3.set_xticks(np.arange(0, 1/3, 3**-3))\n",
    "ax3.set_title(\"Cantor Distribution Function\")\n",
    "ax3.set_xlabel(\"Y / 3\")\n",
    "ax3.set_ylabel(\"Probability (Y / 3) < Value\")\n",
    "ax3.plot(x, [prob(i, labels2, counts2, sum(counts2)) for i in x])\n",
    "\n",
    "ax4.hist(values2, bins=np.arange(0 - binwidth/2, 1 + binwidth/2, binwidth))\n",
    "ax4.set_xlim([-binwidth/2, 1/3 + binwidth/2])\n",
    "ax4.set_xticks(np.arange(0, 1/3, 3**-3))\n",
    "ax4.set_title(\"Cantor Distribution Sample\")\n",
    "ax4.set_xlabel(\"Sample value / 3\")\n",
    "ax4.set_ylabel(\"Number of samples\")\n",
    "plt.show()"
   ]
  },
  {
   "cell_type": "markdown",
   "metadata": {},
   "source": [
    "### Checking the distribution function\n",
    "As shown for some of the previous questions we can also generate a distribution function of the sample using the probability function defined above.\n",
    "To demonstrate we take a sample from the cantor generator, and create a range from 0 to 1 with steps of size 3**-N. For each of the values in this range we can calculate the probability that a value from the sample is below that value."
   ]
  },
  {
   "cell_type": "code",
   "execution_count": null,
   "metadata": {},
   "outputs": [],
   "source": [
    "fig, ax1 = plt.subplots(1, 1)\n",
    "fig.set_figwidth(20)\n",
    "N = 6\n",
    "p = 0.5\n",
    "binwidth = 3**-N\n",
    "values = [cantor(N, p) for i in range(1000)]\n",
    "x = np.arange(0, 1, binwidth)\n",
    "labels, counts = np.unique(values, return_counts=True)\n",
    "ax1.set_xlim([-binwidth/2, 1 + binwidth/2])\n",
    "ax1.set_xticks(np.arange(0, 1, 3**-3))\n",
    "ax1.set_title(\"Cantor Distribution Function\")\n",
    "ax1.set_xlabel(\"Value\")\n",
    "ax1.set_ylabel(\"Probability X<Value\")\n",
    "ax1.plot(x, [prob(i, labels, counts, sum(counts)) for i in x])"
   ]
  },
  {
   "cell_type": "markdown",
   "metadata": {},
   "source": [
    "## Law of Large Numbers\n",
    "\n",
    "The Law of Large Numbers says that as the number of randomly generated &\n",
    "identically distributed variables grows, the sample mean approaches the true mean.\n",
    "\n",
    "Let's simulate this example using a fair dice (values 1-6 have equal chance of appearing).\n",
    "In our example, the expected value is 3.5 (the average of all the numbers from 1 to 6). So, if we take the average\n",
    "of our 100 dice results, we should expect it to be close to 3.5.\n",
    "\n",
    "We test and plot this according to"
   ]
  },
  {
   "cell_type": "code",
   "execution_count": null,
   "metadata": {},
   "outputs": [],
   "source": [
    "# Exercise 4\n",
    "\n",
    "# Law of large numbers\n",
    "\n",
    "import pandas as pd\n",
    "\n",
    "def graph_LLN(a, b):\n",
    "    result = []\n",
    "    for n in range(1,25000):\n",
    "        mean = np.mean(np.random.normal(a, b, n))\n",
    "        result.append(mean)\n",
    "\n",
    "    df = pd.DataFrame({ 'tries' : result})\n",
    "\n",
    "    df.plot(legend=None)\n",
    "    plt.title('Law of Large Numbers')\n",
    "\n",
    "    plt.xlabel(\"Sample size\")\n",
    "    plt.ylabel(\"Sample mean averages\")\n",
    "    plt.show()\n",
    "\n",
    "graph_LLN(0, 1)"
   ]
  },
  {
   "cell_type": "markdown",
   "metadata": {},
   "source": [
    "We can observe that with a smaller sample size, the sample means are spread\n",
    "around very broadly. As we move right along the x-axis, we see the sample mean average narrowing and converging towards the population mean, 3.5.\n",
    "\n",
    "## Central Limit Theorem"
   ]
  },
  {
   "cell_type": "code",
   "execution_count": null,
   "metadata": {},
   "outputs": [],
   "source": [
    "def graph_CLT(a,b):\n",
    "    n_list = [1, 5, 100, 200]\n",
    "    N = 20\n",
    "    sample = []\n",
    "    k = 0\n",
    "\n",
    "    for i in range(len(n_list)):\n",
    "        sample.append(list())\n",
    "\n",
    "    # Loop through the n_list\n",
    "    for n in n_list:\n",
    "        for i in range(N):\n",
    "            for j in range(n):\n",
    "                s = np.mean(np.random.normal(a, b, n))\n",
    "                z = np.sqrt(n) * (s - a)\n",
    "                sample[k].append(z)\n",
    "        k += 1\n",
    "\n",
    "\n",
    "    k = 0\n",
    "    # Generate graphs for every n in n_list\n",
    "    fig, ax = plt.subplots(2, 2, figsize=(10, 8))\n",
    "    for i in range(2):\n",
    "        for j in range(2):\n",
    "            ax[i, j].hist(sample[k], density = True, bins=40)\n",
    "            ax[i, j].set_title(label = \"N = \" + str(n_list[k]))\n",
    "            k += 1\n",
    "    plt.show()\n",
    "\n",
    "graph_CLT(0, 1)"
   ]
  },
  {
   "cell_type": "code",
   "execution_count": null,
   "metadata": {},
   "outputs": [],
   "source": [
    "# 3. From one distribution to another\n",
    "\n",
    "# Exponential Distribution\n",
    "\n",
    "\n",
    "\n",
    "# fig, ax = plt.subplots(1, 1)\n",
    "# rv = expon()\n",
    "# x = np.linspace(expon.ppf(0.01),\n",
    "#                 expon.ppf(0.99), 100)\n",
    "# ax.plot(x, rv.pdf(x), 'k-', lw=2)\n",
    "# r = expon.rvs(size=1000)\n",
    "# ax.hist(r, density=True, histtype='stepfilled', alpha=0.2)\n",
    "# plt.show()"
   ]
  },
  {
   "cell_type": "code",
   "execution_count": null,
   "metadata": {},
   "outputs": [],
   "source": [
    "# Monte Carlo\n",
    "\n",
    "numpoints = 1000\n",
    "simulation = 0\n",
    "sim_variance = 0\n",
    "\n",
    "for n in range(numpoints):\n",
    "    x = [0] * 10\n",
    "    for i in range(0, 10):\n",
    "        x[i] = np.random.uniform()\n",
    "    sum = np.sum(x) + 1 / (pow(2, 20) * np.prod(x))\n",
    "    exp = np.exp(-1.0 * sum)\n",
    "\n",
    "    rightProduct = 1\n",
    "    for i in range(10):\n",
    "        single_x = pow(x[i], i/11 - 1)\n",
    "        rightProduct = rightProduct * single_x\n",
    "\n",
    "    simulation = simulation + exp * rightProduct\n",
    "\n",
    "inf = 10000\n",
    "simulation = (simulation * inf) / numpoints\n",
    "sim_variance = (sim_variance * inf) / numpoints\n",
    "# error = 6999 * np.sqrt()\n",
    "print(\"Monte Carlo Estimation\", simulation)\n",
    "# print(\"Estimated error\", error)"
   ]
  }
 ],
 "metadata": {
  "interpreter": {
   "hash": "34877b8fa4a854ffb343e3cc84fab7b331a3d11beabe59f2d36eb4916db5a901"
  },
  "kernelspec": {
   "display_name": "Python 3.9.10 64-bit",
   "language": "python",
   "name": "python3"
  },
  "language_info": {
   "codemirror_mode": {
    "name": "ipython",
    "version": 3
   },
   "file_extension": ".py",
   "mimetype": "text/x-python",
   "name": "python",
   "nbconvert_exporter": "python",
   "pygments_lexer": "ipython3",
   "version": "3.10.2"
  },
  "orig_nbformat": 4
 },
 "nbformat": 4,
 "nbformat_minor": 2
}
