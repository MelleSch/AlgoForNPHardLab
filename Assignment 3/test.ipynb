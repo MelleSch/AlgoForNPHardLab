{
 "cells": [
  {
   "cell_type": "markdown",
   "metadata": {},
   "source": []
  },
  {
   "cell_type": "code",
   "execution_count": null,
   "metadata": {
    "collapsed": false,
    "pycharm": {
     "name": "#%%\n"
    }
   },
   "outputs": [],
   "source": [
    "import numpy as np\n",
    "import random as rand\n",
    "from matplotlib import pyplot as plt\n",
    "from math import *\n",
    "from scipy.stats import nbinom, expon\n"
   ]
  },
  {
   "cell_type": "markdown",
   "metadata": {},
   "source": [
    "## Binomial Generator\n",
    "A sample from a binomial distribution with specified amount of shots and probability of succes.\n",
    "It works by iterating n times and each time generating a uniform random value between 0 and 1, if this value is less than the probability then the shot was a success and x is incremented by 1. \n",
    "Once the amount of iterations (k) reaches n, the number of successes (x) is returned"
   ]
  },
  {
   "cell_type": "code",
   "execution_count": null,
   "metadata": {
    "collapsed": false,
    "pycharm": {
     "is_executing": true,
     "name": "#%%\n"
    }
   },
   "outputs": [],
   "source": [
    "# Binomial distribution\n",
    "\n",
    "def binomgen(n, p):\n",
    "    x = 0\n",
    "    k = 0\n",
    "    while k < n:\n",
    "        u = rand.uniform(0, 1)\n",
    "        if (u <= p):\n",
    "            x += 1\n",
    "        k += 1\n",
    "    return x"
   ]
  },
  {
   "cell_type": "markdown",
   "metadata": {},
   "source": [
    "## Negative Binomial Generator\n",
    "A sample from a negative binomial distribution with specified amount of failures and probability of succes.\n",
    "It works by iterating until the amount of failures (fail) reaches r.\n",
    "Each iteration a uniform random variable between 0 and 1 is generated, if this value is higher than the probability then the shot was a failure and fail is incremented by 1.\n",
    "Once the amount of failures (fail) reaches r, the number of iterations minus failures (k - fail) is returned"
   ]
  },
  {
   "cell_type": "code",
   "execution_count": null,
   "metadata": {
    "collapsed": false,
    "pycharm": {
     "is_executing": true,
     "name": "#%%\n"
    }
   },
   "outputs": [],
   "source": [
    "# Negative Binomial Distribution\n",
    "\n",
    "def nbinomgen(r, p):\n",
    "    fail = 0\n",
    "    k = 0\n",
    "    while fail < r:\n",
    "        u = rand.uniform(0, 1)\n",
    "        if (u > p):\n",
    "            fail += 1\n",
    "        k += 1\n",
    "    return k - fail"
   ]
  },
  {
   "cell_type": "code",
   "execution_count": null,
   "metadata": {},
   "outputs": [],
   "source": [
    "parameters = [(10, 0.5), (10, 0.7), (50, 0.5)]\n",
    "coinflip_params = [(1000, 0.5)]"
   ]
  },
  {
   "cell_type": "markdown",
   "metadata": {},
   "source": [
    "To show that these distributions are close to the actual underlying distributions we generate the probability density functions of the distributions.\n",
    "Comparing the two plots for each distribution with parameters (n, p) or (r, p) will show that they have a similar shape and thus the samples have similar frequencies. "
   ]
  },
  {
   "cell_type": "code",
   "execution_count": null,
   "metadata": {},
   "outputs": [],
   "source": [
    "for (n, p) in parameters:\n",
    "    fig, (ax1, ax2) = plt.subplots(1, 2)\n",
    "    fig.set_figwidth(20)\n",
    "    values = [binomgen(n, p) for i in range(5000)]\n",
    "    labels, counts = np.unique(values, return_counts=True)\n",
    "    ax1.bar(labels, counts, align='center')\n",
    "    ax1.set_xlim([-0.5, n + 0.5])\n",
    "    ax1.set_xticks(np.arange(0, n+1, n // 10))\n",
    "    ax1.set_title(\"Binomial Sample\") \n",
    "    ax1.set_xlabel(\"Number of successes\") \n",
    "    ax1.set_ylabel(\"Number of samples\") \n",
    "\n",
    "    values = list(range(n+1))\n",
    "    dist = [comb(n, i) * p ** i * (1-p) ** (n - i) for i in range(n + 1)]\n",
    "\n",
    "    ax2.set_title(\"Binomial distribution probability density function\") \n",
    "    ax2.set_xlabel(\"Number of samples\") \n",
    "    ax2.set_ylabel(\"Probability\") \n",
    "    \n",
    "    ax2.set_xlim([-0.5, n + 0.5])\n",
    "    ax2.set_xticks(np.arange(0, n+1, n // 10))\n",
    "    ax2.bar(values, dist)\n",
    "\n",
    "    "
   ]
  },
  {
   "cell_type": "code",
   "execution_count": null,
   "metadata": {},
   "outputs": [],
   "source": [
    "for (r, p) in parameters:\n",
    "    fig, (ax1, ax2) = plt.subplots(1, 2)\n",
    "    fig.set_figwidth(20)\n",
    "\n",
    "    values = [nbinomgen(r, p) for i in range(5000)]\n",
    "    labels, counts = np.unique(values, return_counts=True)\n",
    "    ax1.bar(labels, counts, align='center')\n",
    "    ax1.set_xlim([-0.5, max(values) + 0.5])\n",
    "    ax1.set_xticks(np.arange(0, max(values)+1, max(values) // 10))\n",
    "    ax1.set_title(\"Negative Binomial Distribution Sample\")\n",
    "    ax1.set_xlabel(f\"Number of successes until {r} failures\")\n",
    "    ax1.set_ylabel(\"Number of samples\")\n",
    "\n",
    "    x = np.arange(0, max(values))\n",
    "    ax2.bar(x, nbinom.pmf(x, r, 1 - p))\n",
    "    ax2.set_title(\"Negative Binomial distribution probability density function\")\n",
    "    ax2.set_xlabel(f\"Number of successes until {r} failures\")\n",
    "    ax2.set_ylabel(\"Probability\")\n",
    "    ax2.set_xticks(np.arange(0, max(x), max(x) // 10))"
   ]
  },
  {
   "cell_type": "markdown",
   "metadata": {},
   "source": [
    "## Flipping a coin\n",
    "For the game of flipping a coin, we use a similar strategy as before to get a random sample, however instead of only adding 1 to the counter for a success, we also substract 1 from the counter in case of a failure.\n",
    "This way the counter keeps track of Sn throughout the N (1000) samples and the value of Sn divided by sqrt(N) is stored in an array for plotting.\n",
    "\n",
    "As can be seen by rerunning the code below, the trajectory fluctuates around 0 with the eventual peak or dip due to randomness in the sampling method."
   ]
  },
  {
   "cell_type": "code",
   "execution_count": null,
   "metadata": {},
   "outputs": [],
   "source": [
    "for (N, p) in coinflip_params:\n",
    "    Sn = 0\n",
    "    n = 0\n",
    "    values = [None] * (N+1)\n",
    "    while n <= N:\n",
    "        values[n] = Sn / sqrt(N)\n",
    "        u = rand.uniform(0, 1)\n",
    "        if (u <= p):\n",
    "            Sn += 1\n",
    "        else:\n",
    "            Sn -= 1\n",
    "        n += 1\n",
    "    labels = [i for i in range(N+1)]\n",
    "    fig, ax = plt.subplots(1, 1)\n",
    "    fig.set_figwidth(20)\n",
    "    ax.set_xlim([0, N])\n",
    "    ax.set_xticks(np.arange(0, N, N // 10))\n",
    "    ax.set_title(\"Sample gain\")\n",
    "    ax.set_xlabel(f\"Number of trials\")\n",
    "    ax.set_ylabel(\"Gain (Sn / sqrt(N))\")\n",
    "    ax.plot(labels, values)"
   ]
  },
  {
   "cell_type": "code",
   "execution_count": null,
   "metadata": {},
   "outputs": [],
   "source": [
    "# 3. From one distribution to another\n",
    "\n",
    "# Exponential Distribution\n",
    "\n",
    "\n",
    "\n",
    "# fig, ax = plt.subplots(1, 1)\n",
    "# rv = expon()\n",
    "# x = np.linspace(expon.ppf(0.01),\n",
    "#                 expon.ppf(0.99), 100)\n",
    "# ax.plot(x, rv.pdf(x), 'k-', lw=2)\n",
    "# r = expon.rvs(size=1000)\n",
    "# ax.hist(r, density=True, histtype='stepfilled', alpha=0.2)\n",
    "# plt.show()"
   ]
  },
  {
   "cell_type": "code",
   "execution_count": null,
   "metadata": {},
   "outputs": [],
   "source": [
    "# Monte Carlo\n",
    "\n",
    "numpoints = 1000\n",
    "simulation = 0\n",
    "sim_variance = 0\n",
    "\n",
    "for n in range(numpoints):\n",
    "    x = [0] * 10\n",
    "    for i in range(0, 10):\n",
    "        x[i] = np.random.uniform()\n",
    "    sum = np.sum(x) + 1 / (pow(2, 20) * np.prod(x))\n",
    "    exp = np.exp(-1.0 * sum)\n",
    "\n",
    "    rightProduct = 1\n",
    "    for i in range(10):\n",
    "        single_x = pow(x[i], i/11 - 1)\n",
    "        rightProduct = rightProduct * single_x\n",
    "\n",
    "    simulation = simulation + exp * rightProduct\n",
    "\n",
    "inf = 10000\n",
    "simulation = (simulation * inf) / numpoints\n",
    "sim_variance = (sim_variance * inf) / numpoints\n",
    "# error = 6999 * np.sqrt()\n",
    "print(\"Monte Carlo Estimation\", simulation)\n",
    "# print(\"Estimated error\", error)"
   ]
  }
 ],
 "metadata": {
  "interpreter": {
   "hash": "34877b8fa4a854ffb343e3cc84fab7b331a3d11beabe59f2d36eb4916db5a901"
  },
  "kernelspec": {
   "display_name": "Python 3.9.10 64-bit",
   "language": "python",
   "name": "python3"
  },
  "language_info": {
   "codemirror_mode": {
    "name": "ipython",
    "version": 3
   },
   "file_extension": ".py",
   "mimetype": "text/x-python",
   "name": "python",
   "nbconvert_exporter": "python",
   "pygments_lexer": "ipython3",
   "version": "3.10.2"
  },
  "orig_nbformat": 4
 },
 "nbformat": 4,
 "nbformat_minor": 2
}
