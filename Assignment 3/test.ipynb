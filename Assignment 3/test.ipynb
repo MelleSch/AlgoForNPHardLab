{
 "cells": [
  {
   "cell_type": "markdown",
   "metadata": {},
   "source": []
  },
  {
   "cell_type": "code",
   "execution_count": null,
   "outputs": [],
   "source": [
    "from matplotlib import pyplot as plt\n",
    "import numpy as np\n",
    "from math import comb\n",
    "from scipy.stats import nbinom"
   ],
   "metadata": {
    "collapsed": false,
    "pycharm": {
     "name": "#%%\n"
    }
   }
  },
  {
   "cell_type": "markdown",
   "source": [
    "Test"
   ],
   "metadata": {
    "collapsed": false
   }
  },
  {
   "cell_type": "code",
   "execution_count": null,
   "outputs": [],
   "source": [
    "# Binomial distribution\n",
    "\n",
    "n = 10\n",
    "p = 0.5\n",
    "\n",
    "values = list(range(n+1))\n",
    "dist = [comb(n, i) * p ** i * (1-p) ** (n - i) for i in range(n + 1)]\n",
    "\n",
    "plt.title(\"Binomial distribution\")\n",
    "plt.xlabel(\"Number of samples\")\n",
    "plt.ylabel(\"Probability of successes\")\n",
    "plt.bar(values, dist)\n",
    "plt.show()"
   ],
   "metadata": {
    "collapsed": false,
    "pycharm": {
     "name": "#%%\n",
     "is_executing": true
    }
   }
  },
  {
   "cell_type": "code",
   "execution_count": null,
   "outputs": [],
   "source": [
    "# Negative Binomial Distribution\n",
    "\n",
    "n = 10\n",
    "p = 0.5\n",
    "\n",
    "fig, ax = plt.subplots(1, 1)\n",
    "x = np.arange(nbinom.ppf(0.01, n, p), nbinom.ppf(0.99, n, p))\n",
    "ax.plot(x, nbinom.pmf(x, n, p), 'bo', ms=8, label='nbinom pmf')\n",
    "\n",
    "# plt.title(\"Negative Binomial distribution\")\n",
    "# plt.xlabel(\"Number of samples\")\n",
    "# plt.ylabel(\"Probability of successes\")\n",
    "# plt.bar(values, dist)\n",
    "plt.show()"
   ],
   "metadata": {
    "collapsed": false,
    "pycharm": {
     "name": "#%%\n",
     "is_executing": true
    }
   }
  }
 ],
 "metadata": {
  "interpreter": {
   "hash": "34877b8fa4a854ffb343e3cc84fab7b331a3d11beabe59f2d36eb4916db5a901"
  },
  "kernelspec": {
   "display_name": "Python 3.9.10 64-bit",
   "language": "python",
   "name": "python3"
  },
  "language_info": {
   "codemirror_mode": {
    "name": "ipython",
    "version": 3
   },
   "file_extension": ".py",
   "mimetype": "text/x-python",
   "name": "python",
   "nbconvert_exporter": "python",
   "pygments_lexer": "ipython3",
   "version": "3.9.10"
  },
  "orig_nbformat": 4
 },
 "nbformat": 4,
 "nbformat_minor": 2
}